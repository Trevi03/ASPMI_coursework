{
 "cells": [
  {
   "cell_type": "code",
   "execution_count": 2,
   "metadata": {},
   "outputs": [],
   "source": [
    "%load_ext autoreload\n",
    "%autoreload 2\n",
    "%matplotlib inline"
   ]
  },
  {
   "cell_type": "code",
   "execution_count": 3,
   "metadata": {},
   "outputs": [],
   "source": [
    "import numpy as np\n",
    "import matplotlib.pyplot as plt\n",
    "from hottbox.core import Tensor"
   ]
  },
  {
   "cell_type": "markdown",
   "metadata": {
    "toc-hr-collapsed": false
   },
   "source": [
    "[Return to Table of Contents](./0_Table_of_contents.ipynb)"
   ]
  },
  {
   "cell_type": "markdown",
   "metadata": {
    "toc-hr-collapsed": false
   },
   "source": [
    "# Tensors and basic operations"
   ]
  },
  {
   "cell_type": "markdown",
   "metadata": {
    "toc-hr-collapsed": true
   },
   "source": [
    "<img src=\"./imgs/tensors_dogs.jpg\" alt=\"Drawing\" style=\"width: 500px;\"/>\n",
    "\n",
    "A tensor is a multi-dimenaional array of data where each dimension is conventionally referred to as the **mode**. Tensor order is defined by the number of its modes which is equivivalent to the number of indices required to identify a particular entry of a multi-dimensional array. For ease of visualisation and compact notation, we consider a third order tensor $\\mathbf{\\underline{X}} \\in \\mathbb{R}^{I \\times J \\times K}$. Thus, an element of such a tensor, $\\mathbf{\\underline{X}} \\in \\mathbb{R}^{I \\times J \\times K}$, can be written in a general form as:\n",
    "\n",
    "$$ x_{ijk} = \\mathbf{\\underline{X}}[i, j, k]$$\n",
    "\n",
    "> **Note:** In order to be consistent with Python indexing, count of modes and elements within starts from zeros.\n",
    "\n",
    "Creation of a tensor starts with a formation of a multidimensional array of data."
   ]
  },
  {
   "cell_type": "code",
   "execution_count": 4,
   "metadata": {},
   "outputs": [
    {
     "name": "stdout",
     "output_type": "stream",
     "text": [
      "This tensor is of order 3 and consists of 24 elements.\n",
      "Sizes and names of its modes are (2, 3, 4) and ['mode-0', 'mode-1', 'mode-2'] respectively.\n"
     ]
    },
    {
     "data": {
      "text/plain": [
       "array([[[ 0,  1,  2,  3],\n",
       "        [ 4,  5,  6,  7],\n",
       "        [ 8,  9, 10, 11]],\n",
       "\n",
       "       [[12, 13, 14, 15],\n",
       "        [16, 17, 18, 19],\n",
       "        [20, 21, 22, 23]]])"
      ]
     },
     "execution_count": 4,
     "metadata": {},
     "output_type": "execute_result"
    }
   ],
   "source": [
    "# Create 3-d array of data\n",
    "array_3d = np.arange(24).reshape((2, 3, 4))\n",
    "\n",
    "# Create tensor\n",
    "tensor = Tensor(array_3d)\n",
    "\n",
    "# Result preview\n",
    "print(tensor)\n",
    "tensor.data"
   ]
  },
  {
   "cell_type": "markdown",
   "metadata": {
    "toc-hr-collapsed": true
   },
   "source": [
    "## **Assigment 1**\n",
    "\n",
    "1. Create a tensor of order 5 (of any shape) and with all its values equal to 5. Then, calculate its Frobenious norm. \n",
    "2. Construct several tensors of orders varying from 3 to 20, with the size of each dimension equal to 2. Plot the relation between an order of a tensor and the number of its elements.\n",
    "3. Construct several tensors of order 3 with the size of each dimension varying from 3 to 15. Plot the relation between the size of dimensions of a tensor and the number of its elements.\n",
    "4. Analyse and compare the so obtained graphs."
   ]
  },
  {
   "cell_type": "markdown",
   "metadata": {},
   "source": [
    "### Solution: Part 1"
   ]
  },
  {
   "cell_type": "code",
   "execution_count": null,
   "metadata": {},
   "outputs": [
    {
     "name": "stdout",
     "output_type": "stream",
     "text": [
      "This tensor is of order 5 and consists of 243 elements.\n",
      "Sizes and names of its modes are (3, 3, 3, 3, 3) and ['mode-0', 'mode-1', 'mode-2', 'mode-3', 'mode-4'] respectively.\n"
     ]
    },
    {
     "data": {
      "text/plain": [
       "array([[[[[5., 5., 5.],\n",
       "          [5., 5., 5.],\n",
       "          [5., 5., 5.]],\n",
       "\n",
       "         [[5., 5., 5.],\n",
       "          [5., 5., 5.],\n",
       "          [5., 5., 5.]],\n",
       "\n",
       "         [[5., 5., 5.],\n",
       "          [5., 5., 5.],\n",
       "          [5., 5., 5.]]],\n",
       "\n",
       "\n",
       "        [[[5., 5., 5.],\n",
       "          [5., 5., 5.],\n",
       "          [5., 5., 5.]],\n",
       "\n",
       "         [[5., 5., 5.],\n",
       "          [5., 5., 5.],\n",
       "          [5., 5., 5.]],\n",
       "\n",
       "         [[5., 5., 5.],\n",
       "          [5., 5., 5.],\n",
       "          [5., 5., 5.]]],\n",
       "\n",
       "\n",
       "        [[[5., 5., 5.],\n",
       "          [5., 5., 5.],\n",
       "          [5., 5., 5.]],\n",
       "\n",
       "         [[5., 5., 5.],\n",
       "          [5., 5., 5.],\n",
       "          [5., 5., 5.]],\n",
       "\n",
       "         [[5., 5., 5.],\n",
       "          [5., 5., 5.],\n",
       "          [5., 5., 5.]]]],\n",
       "\n",
       "\n",
       "\n",
       "       [[[[5., 5., 5.],\n",
       "          [5., 5., 5.],\n",
       "          [5., 5., 5.]],\n",
       "\n",
       "         [[5., 5., 5.],\n",
       "          [5., 5., 5.],\n",
       "          [5., 5., 5.]],\n",
       "\n",
       "         [[5., 5., 5.],\n",
       "          [5., 5., 5.],\n",
       "          [5., 5., 5.]]],\n",
       "\n",
       "\n",
       "        [[[5., 5., 5.],\n",
       "          [5., 5., 5.],\n",
       "          [5., 5., 5.]],\n",
       "\n",
       "         [[5., 5., 5.],\n",
       "          [5., 5., 5.],\n",
       "          [5., 5., 5.]],\n",
       "\n",
       "         [[5., 5., 5.],\n",
       "          [5., 5., 5.],\n",
       "          [5., 5., 5.]]],\n",
       "\n",
       "\n",
       "        [[[5., 5., 5.],\n",
       "          [5., 5., 5.],\n",
       "          [5., 5., 5.]],\n",
       "\n",
       "         [[5., 5., 5.],\n",
       "          [5., 5., 5.],\n",
       "          [5., 5., 5.]],\n",
       "\n",
       "         [[5., 5., 5.],\n",
       "          [5., 5., 5.],\n",
       "          [5., 5., 5.]]]],\n",
       "\n",
       "\n",
       "\n",
       "       [[[[5., 5., 5.],\n",
       "          [5., 5., 5.],\n",
       "          [5., 5., 5.]],\n",
       "\n",
       "         [[5., 5., 5.],\n",
       "          [5., 5., 5.],\n",
       "          [5., 5., 5.]],\n",
       "\n",
       "         [[5., 5., 5.],\n",
       "          [5., 5., 5.],\n",
       "          [5., 5., 5.]]],\n",
       "\n",
       "\n",
       "        [[[5., 5., 5.],\n",
       "          [5., 5., 5.],\n",
       "          [5., 5., 5.]],\n",
       "\n",
       "         [[5., 5., 5.],\n",
       "          [5., 5., 5.],\n",
       "          [5., 5., 5.]],\n",
       "\n",
       "         [[5., 5., 5.],\n",
       "          [5., 5., 5.],\n",
       "          [5., 5., 5.]]],\n",
       "\n",
       "\n",
       "        [[[5., 5., 5.],\n",
       "          [5., 5., 5.],\n",
       "          [5., 5., 5.]],\n",
       "\n",
       "         [[5., 5., 5.],\n",
       "          [5., 5., 5.],\n",
       "          [5., 5., 5.]],\n",
       "\n",
       "         [[5., 5., 5.],\n",
       "          [5., 5., 5.],\n",
       "          [5., 5., 5.]]]]])"
      ]
     },
     "execution_count": 7,
     "metadata": {},
     "output_type": "execute_result"
    }
   ],
   "source": [
    "# Create 3-d array of data\n",
    "array_5d = 5*np.ones(243).reshape((3, 3, 3, 3, 3))\n",
    "\n",
    "# Create tensor\n",
    "tensor = Tensor(array_5d)\n",
    "\n",
    "# Result preview\n",
    "print(tensor)\n",
    "tensor.data"
   ]
  },
  {
   "cell_type": "code",
   "execution_count": 8,
   "metadata": {},
   "outputs": [
    {
     "name": "stdout",
     "output_type": "stream",
     "text": [
      "77.94228634059948\n"
     ]
    }
   ],
   "source": [
    "# Calculate Frobenious norm\n",
    "frob = np.linalg.norm(tensor.data)\n",
    "print(frob)"
   ]
  },
  {
   "cell_type": "markdown",
   "metadata": {},
   "source": [
    "### Solution: Part 2"
   ]
  },
  {
   "cell_type": "code",
   "execution_count": null,
   "metadata": {},
   "outputs": [],
   "source": [
    "# Create tensors and collect information\n",
    "tensor_elements = []\n",
    "for i in range(3,21):\n",
    "    # i dimensional tensor where each dimension has size 2 \n",
    "    tensor = Tensor(np.ones(tuple(2*np.ones(i).astype('int'))))\n",
    "    # number of elements = 2^i\n",
    "    tensor_elements.append(2**i)"
   ]
  },
  {
   "cell_type": "code",
   "execution_count": 13,
   "metadata": {},
   "outputs": [
    {
     "data": {
      "image/png": "[encoded data removed]",
      "text/plain": [
       "<Figure size 600x400 with 1 Axes>"
      ]
     },
     "metadata": {},
     "output_type": "display_data"
    }
   ],
   "source": [
    "# Plot results\n",
    "fig, ax = plt.subplots(figsize=(6,4))\n",
    "ax.grid(True)\n",
    "plt.plot(np.arange(3,21),tensor_elements)\n",
    "plt.xlabel('Tensor Order')\n",
    "plt.ylabel('Number of elements')\n",
    "plt.title('Tensor Order vs Number of Elements where each dimension has size 2')\n",
    "plt.show()\n"
   ]
  },
  {
   "cell_type": "markdown",
   "metadata": {},
   "source": [
    "### Solution: Part 3"
   ]
  },
  {
   "cell_type": "code",
   "execution_count": 17,
   "metadata": {},
   "outputs": [],
   "source": [
    "# Create tensors and collect information\n",
    "tensor_elements = []\n",
    "for i in range(3,15):\n",
    "    # i dimensional tensor where each dimension has size 3\n",
    "    tensor = Tensor(np.ones(tuple(i*np.ones(3).astype('int'))))\n",
    "    # number of elements = i^3\n",
    "    tensor_elements.append(i**3)"
   ]
  },
  {
   "cell_type": "code",
   "execution_count": 18,
   "metadata": {},
   "outputs": [
    {
     "data": {
      "image/png": "[encoded data removed]",
      "text/plain": [
       "<Figure size 600x400 with 1 Axes>"
      ]
     },
     "metadata": {},
     "output_type": "display_data"
    }
   ],
   "source": [
    "# Plot results\n",
    "fig, ax = plt.subplots(figsize=(6,4))\n",
    "ax.grid(True)\n",
    "plt.plot(np.arange(3,15),tensor_elements)\n",
    "plt.xlabel('Tensor Order')\n",
    "plt.ylabel('Number of elements')\n",
    "plt.title('Tensor Order vs Number of Elements where each dimension has size 3')\n",
    "plt.show()"
   ]
  },
  {
   "cell_type": "markdown",
   "metadata": {},
   "source": [
    "### Solution: Part 4"
   ]
  },
  {
   "cell_type": "markdown",
   "metadata": {},
   "source": [
    "**Include comparison and analysis here**\n",
    "In part 2, the number of elements is determined by the dimension of each tensor to the power of the order, an exponential growth dim^O. In part 3, the number of elements is determined by the order to the power of the dimension of each tensor, a polynomial growth O^dim. \n",
    "To accommodate for large data sizes, we either have to increase the number of dimensions in each tensor or the number of orders. The latter gives an explosion in the overall volume of data. Bellman described it as the 'Curse of Dimensionality'. As the number of dimensions increases, data points become sparser, distances become less meaningful, and models become harder to train efficiently. The memory needed to store such a tensor would also increase exponentially, which may be a scarce resource.\n"
   ]
  },
  {
   "cell_type": "markdown",
   "metadata": {
    "toc-hr-collapsed": false
   },
   "source": [
    "# Most common tensor substructures\n",
    "<img src=\"./imgs/tensor_substructures.png\" alt=\"Drawing\" style=\"width: 500px;\"/>\n",
    "\n",
    "1. A **fiber** is a vector obtained by fixing all but one of the indices, e.g.  $\\mathbf{\\underline{X}}[i,:,k]$ is the mode-2 fiber $\\mathbf{\\underline{X}}$ (usually refered to as row fiber). \n",
    "\n",
    "1. Fixing all but two of the indices yields a matrix called a **slice** of a tensor, e.g. $\\mathbf{\\underline{X}}[:,:,k]$ is the mode-[1,2] slice (usually refered to as the frontal slice).\n",
    "\n",
    "**Note:** The same principles and definitions can be applied to a tensor of an arbitrarily large order. In addition, you can obtain a **subtensor** by fixing at least three indices and letting the remaining ones vary."
   ]
  },
  {
   "cell_type": "code",
   "execution_count": null,
   "metadata": {},
   "outputs": [],
   "source": [
    "# Mode-2 fiber\n",
    "tensor.data[0,1,:]"
   ]
  },
  {
   "cell_type": "code",
   "execution_count": null,
   "metadata": {},
   "outputs": [],
   "source": [
    "# Frontal slice\n",
    "tensor.data[0,:,:]"
   ]
  },
  {
   "cell_type": "markdown",
   "metadata": {
    "toc-hr-collapsed": true
   },
   "source": [
    "## **Assigment 2**\n",
    "\n",
    "1. Create a tensor of order 4 which consists of 81 elements and display all its horizontal slices and any five row fibers.\n",
    "2. Create a tensor of order 3 and shape `(4,2,5)`, where the values of each consequent frontal slice are doubled."
   ]
  },
  {
   "cell_type": "markdown",
   "metadata": {},
   "source": [
    "### Solution: Part 1"
   ]
  },
  {
   "cell_type": "code",
   "execution_count": 22,
   "metadata": {},
   "outputs": [],
   "source": [
    "# Create a tensor of order 4\n",
    "array_4d = np.arange(81).reshape((3, 3, 3, 3))\n",
    "tensor = Tensor(array_4d)\n",
    "\n",
    "# # Result preview\n",
    "# print(tensor)\n",
    "# tensor.data"
   ]
  },
  {
   "cell_type": "code",
   "execution_count": null,
   "metadata": {},
   "outputs": [],
   "source": [
    "# Display slices\n",
    "for i in range(0,3): # each horizontal slice\n",
    "    for j in range(0,3):  # each dimension 4\n",
    "        print('Tensor Indexing: ({a},:,:,{b})'.format(a=i,b=j))\n",
    "        print(tensor.data[i,:,:,j])"
   ]
  },
  {
   "cell_type": "code",
   "execution_count": null,
   "metadata": {},
   "outputs": [],
   "source": [
    "# Display fibers\n",
    "print(tensor.data[0,:,0,0]) # [0,:,0] row fibres for each 4th dimension 0\n",
    "print(tensor.data[0,:,2,0]) # [0,:,2] row fibres for each 4th dimension 0\n",
    "print(tensor.data[1,:,0,1]) # etc\n",
    "print(tensor.data[1,:,2,1])\n",
    "print(tensor.data[2,:,2,2])"
   ]
  },
  {
   "cell_type": "markdown",
   "metadata": {},
   "source": [
    "### Solution: Part 2"
   ]
  },
  {
   "cell_type": "code",
   "execution_count": null,
   "metadata": {},
   "outputs": [],
   "source": [
    "# Create a tensor of order 3\n",
    "array_3d = np.arange(40).reshape((4, 2, 5))\n",
    "tensor = Tensor(array_3d)\n",
    "\n",
    "# # Result preview\n",
    "# print(tensor)\n",
    "# tensor.data\n",
    "\n",
    "for i in range(0,tensor.shape[2]):\n",
    "    tensor.data[:,:,i] = 2**i # doubling each iteration\n",
    "    print(tensor.data[:,:,i])\n",
    "    \n",
    "# Result preview\n",
    "print('Tensor Data')\n",
    "print(tensor.data)"
   ]
  },
  {
   "cell_type": "markdown",
   "metadata": {
    "toc-hr-collapsed": false
   },
   "source": [
    "# Unfolding\n",
    "\n",
    "Conventionally, unfolding is considered to be a process of element mapping from a tensor to a matrix. In other words, it arranges the mode-$n$ fibers of a tensor to be the matrix columns. Thus, the mode-$n$ unfolding is denoted as:\n",
    "\n",
    "$$\\mathbf{\\underline{A}} \\xrightarrow{n} \\mathbf{A}_{(n)}$$\n",
    "\n",
    "Thus, this operations requires to specify a mode along which a tensor will be unfolded. For a third order tensor, a visual representation of such operation is as following\n",
    "\n",
    "<img src=\"./imgs/unfolding.png\" alt=\"Drawing\" style=\"width: 600px;\"/>\n",
    "\n",
    "In `hottbox` this functionality is available through the corresponding methods of the `Tensor` object, for instance:"
   ]
  },
  {
   "cell_type": "code",
   "execution_count": 16,
   "metadata": {},
   "outputs": [
    {
     "name": "stdout",
     "output_type": "stream",
     "text": [
      "This tensor is of order 2 and consists of 24 elements.\n",
      "Sizes and names of its modes are (2, 12) and ['mode-0', 'mode-1_mode-2'] respectively.\n"
     ]
    },
    {
     "data": {
      "text/plain": [
       "array([[ 0,  1,  2,  3,  4,  5,  6,  7,  8,  9, 10, 11],\n",
       "       [12, 13, 14, 15, 16, 17, 18, 19, 20, 21, 22, 23]])"
      ]
     },
     "execution_count": 16,
     "metadata": {},
     "output_type": "execute_result"
    }
   ],
   "source": [
    "# Create 3-d array of data\n",
    "array_3d = np.arange(24).reshape((2, 3, 4))\n",
    "\n",
    "# Create tensor\n",
    "tensor = Tensor(array_3d)\n",
    "\n",
    "# Unfolding of a tensor\n",
    "tensor.unfold(mode=0)\n",
    "\n",
    "# Result preview\n",
    "print(tensor)\n",
    "tensor.data"
   ]
  },
  {
   "cell_type": "markdown",
   "metadata": {
    "toc-hr-collapsed": true
   },
   "source": [
    "## **Assigment 3**\n",
    "\n",
    "1. Create a tensor, $\\mathbf{\\underline{A}}$, of order 4, in such a way that its version unfolded along the second mode would have sizes `(5,72)`, that is $\\mathbf{A}_{(n)} \\in  \\mathbb{R}^{5 \\times 72}$. Validate your results by displaying the unfolded tensor."
   ]
  },
  {
   "cell_type": "markdown",
   "metadata": {},
   "source": [
    "### Solution : Part 1"
   ]
  },
  {
   "cell_type": "code",
   "execution_count": 34,
   "metadata": {},
   "outputs": [],
   "source": [
    "# Create 4-d array of data\n",
    "array_4d = np.arange(360).reshape((4, 3, 5, 6)) # only k=5 matters\n",
    "\n",
    "# Create tensor\n",
    "tensor = Tensor(array_4d)"
   ]
  },
  {
   "cell_type": "code",
   "execution_count": null,
   "metadata": {},
   "outputs": [],
   "source": [
    "# Display unfolded version\n",
    "tensor.unfold(mode=2)\n",
    "\n",
    "# Result preview\n",
    "print(tensor)\n",
    "tensor.data"
   ]
  },
  {
   "cell_type": "markdown",
   "metadata": {
    "toc-hr-collapsed": false
   },
   "source": [
    "# Mode-n product \n",
    "<img src=\"./imgs/mode_n_product.png\" alt=\"Drawing\" style=\"width: 600px;\"/>\n",
    "\n",
    "The mode-$n$ product is a multiplication of a tensor  by a matrix along the $n^{th}$ mode of a tensor. This essentially means that each mode-$n$ fiber should be multiplied by this matrix. Mathematically, this can be expressed as:\n",
    "\n",
    "$$\\mathbf{\\underline{X}} \\times_n \\mathbf{A} = \\mathbf{\\underline{Y}} \\quad \\Leftrightarrow  \\quad \\mathbf{Y}_{(n)} = \\mathbf{A} \\mathbf{X}_{(n)}  $$"
   ]
  },
  {
   "cell_type": "code",
   "execution_count": 19,
   "metadata": {},
   "outputs": [
    {
     "name": "stdout",
     "output_type": "stream",
     "text": [
      "This tensor is of order 3 and consists of 40 elements.\n",
      "Sizes and names of its modes are (2, 5, 4) and ['mode-0', 'mode-1', 'mode-2'] respectively.\n"
     ]
    },
    {
     "data": {
      "text/plain": [
       "array([[ 20,  23,  26,  29,  56,  59,  62,  65],\n",
       "       [ 56,  68,  80,  92, 200, 212, 224, 236],\n",
       "       [ 92, 113, 134, 155, 344, 365, 386, 407],\n",
       "       [128, 158, 188, 218, 488, 518, 548, 578],\n",
       "       [164, 203, 242, 281, 632, 671, 710, 749]])"
      ]
     },
     "execution_count": 19,
     "metadata": {},
     "output_type": "execute_result"
    }
   ],
   "source": [
    "I, J, K = 2, 3, 4\n",
    "J_new = 5\n",
    "\n",
    "# Create tensor\n",
    "array_3d = np.arange(I * J * K).reshape(I, J ,K)\n",
    "X = Tensor(array_3d)\n",
    "\n",
    "# Create matrix\n",
    "A = np.arange(J_new * J).reshape(J_new, J)\n",
    "\n",
    "# Performs Mode-n product \n",
    "Y = X.mode_n_product(A, mode=1, inplace=False)\n",
    "\n",
    "# Preview of resulting tensor\n",
    "print(Y)\n",
    "\n",
    "# Preview of its unfolded version\n",
    "Y.unfold(mode=1, inplace=False).data"
   ]
  },
  {
   "cell_type": "markdown",
   "metadata": {
    "toc-hr-collapsed": true
   },
   "source": [
    "## **Assignment 4**\n",
    "\n",
    "1. Perform the mode-$n$ product of a 3-rd order tensor, $\\mathbf{\\underline{X}}$, with a matrix, $\\mathbf{A} \\in  \\mathbb{R}^{5 \\times 4}$, provided that the resulting tensor, $\\mathbf{\\underline{Y}}$, consists of `100` elements. Validate your results. \n",
    "\n",
    "> **Note:** You are encouraged to experiment with the optional parameter `inplace` and to investigate its effect on the result."
   ]
  },
  {
   "cell_type": "markdown",
   "metadata": {},
   "source": [
    "### Solution: Part 1"
   ]
  },
  {
   "cell_type": "code",
   "execution_count": 40,
   "metadata": {},
   "outputs": [],
   "source": [
    "# Create original tensor \n",
    "I, J, K = 10, 4, 2\n",
    "J_new = 5\n",
    "\n",
    "# Create tensor\n",
    "array_3d = np.arange(I * J * K).reshape(I, J ,K)\n",
    "X = Tensor(array_3d)\n"
   ]
  },
  {
   "cell_type": "code",
   "execution_count": null,
   "metadata": {},
   "outputs": [],
   "source": [
    "# Create matrix\n",
    "A = np.arange(J_new * J).reshape(J_new, J)"
   ]
  },
  {
   "cell_type": "code",
   "execution_count": null,
   "metadata": {},
   "outputs": [
    {
     "name": "stdout",
     "output_type": "stream",
     "text": [
      "This tensor is of order 3 and consists of 100 elements.\n",
      "Sizes and names of its modes are (10, 5, 2) and ['mode-0', 'mode-1', 'mode-2'] respectively.\n"
     ]
    },
    {
     "data": {
      "text/plain": [
       "array([[  28,   34,   76,   82,  124,  130,  172,  178,  220,  226,  268,\n",
       "         274,  316,  322,  364,  370,  412,  418,  460,  466],\n",
       "       [  76,   98,  252,  274,  428,  450,  604,  626,  780,  802,  956,\n",
       "         978, 1132, 1154, 1308, 1330, 1484, 1506, 1660, 1682],\n",
       "       [ 124,  162,  428,  466,  732,  770, 1036, 1074, 1340, 1378, 1644,\n",
       "        1682, 1948, 1986, 2252, 2290, 2556, 2594, 2860, 2898],\n",
       "       [ 172,  226,  604,  658, 1036, 1090, 1468, 1522, 1900, 1954, 2332,\n",
       "        2386, 2764, 2818, 3196, 3250, 3628, 3682, 4060, 4114],\n",
       "       [ 220,  290,  780,  850, 1340, 1410, 1900, 1970, 2460, 2530, 3020,\n",
       "        3090, 3580, 3650, 4140, 4210, 4700, 4770, 5260, 5330]])"
      ]
     },
     "execution_count": 42,
     "metadata": {},
     "output_type": "execute_result"
    }
   ],
   "source": [
    "# Performs Mode-n product \n",
    "Y = X.mode_n_product(A, mode=1, inplace=False)\n",
    "\n",
    "# Preview of resulting tensor\n",
    "print(Y)\n",
    "\n",
    "# Preview of its unfolded version\n",
    "Y.unfold(mode=1, inplace=False).data\n"
   ]
  },
  {
   "cell_type": "code",
   "execution_count": 43,
   "metadata": {},
   "outputs": [
    {
     "name": "stdout",
     "output_type": "stream",
     "text": [
      "Checking Y\n",
      "This tensor is of order 2 and consists of 100 elements.\n",
      "Sizes and names of its modes are (5, 20) and ['mode-1', 'mode-0_mode-2'] respectively.\n",
      "Checking A*X\n",
      "[[  28   34   76   82  124  130  172  178  220  226  268  274  316  322\n",
      "   364  370  412  418  460  466]\n",
      " [  76   98  252  274  428  450  604  626  780  802  956  978 1132 1154\n",
      "  1308 1330 1484 1506 1660 1682]\n",
      " [ 124  162  428  466  732  770 1036 1074 1340 1378 1644 1682 1948 1986\n",
      "  2252 2290 2556 2594 2860 2898]\n",
      " [ 172  226  604  658 1036 1090 1468 1522 1900 1954 2332 2386 2764 2818\n",
      "  3196 3250 3628 3682 4060 4114]\n",
      " [ 220  290  780  850 1340 1410 1900 1970 2460 2530 3020 3090 3580 3650\n",
      "  4140 4210 4700 4770 5260 5330]]\n"
     ]
    },
    {
     "data": {
      "text/plain": [
       "True"
      ]
     },
     "execution_count": 43,
     "metadata": {},
     "output_type": "execute_result"
    }
   ],
   "source": [
    "# Validate equivalence between the left and right hand side\n",
    "# i.e. checking if Y_n = A*X_n\n",
    "copyY = Y\n",
    "print(\"Checking Y\")\n",
    "print(copyY)\n",
    "\n",
    "X = Tensor(array_3d)\n",
    "AX = A@X.unfold(mode=1, inplace=False).data\n",
    "print(\"Checking A*X\")\n",
    "print(AX)\n",
    "np.allclose(AX, AX)"
   ]
  },
  {
   "cell_type": "markdown",
   "metadata": {},
   "source": [
    "# Properties of mode-n product\n",
    "\n",
    "1. For distinct modes in a series of multiplications, the order of the multiplication is irrelevent: \n",
    "\n",
    "    $$\\mathbf{\\underline{X}} \\times_n \\mathbf{A} \\times_m \\mathbf{B} = \\mathbf{\\underline{X}} \\times_m \\mathbf{B} \\times_n \\mathbf{A} \\quad (m \\neq n)$$\n",
    "\n",
    "1. However, this does not hold if the modes are the same :\n",
    "\n",
    "    $$\\mathbf{\\underline{X}} \\times_n \\mathbf{A} \\times_n \\mathbf{B} = \\mathbf{\\underline{X}} \\times_n (\\mathbf{B}\\mathbf{A})$$"
   ]
  },
  {
   "cell_type": "markdown",
   "metadata": {},
   "source": [
    "# Properties of mode-n product\n",
    "\n",
    "1. For distinct modes in a series of multiplications, the order of the multiplication is irrelevent: \n",
    "\n",
    "    $$\\mathbf{\\underline{X}} \\times_n \\mathbf{A} \\times_m \\mathbf{B} = \\mathbf{\\underline{X}} \\times_m \\mathbf{B} \\times_n \\mathbf{A} \\quad (m \\neq n)$$\n",
    "\n",
    "1. However, this does not hold if the modes are the same :\n",
    "\n",
    "    $$\\mathbf{\\underline{X}} \\times_n \\mathbf{A} \\times_n \\mathbf{B} = \\mathbf{\\underline{X}} \\times_n (\\mathbf{B}\\mathbf{A})$$"
   ]
  },
  {
   "cell_type": "markdown",
   "metadata": {
    "toc-hr-collapsed": true
   },
   "source": [
    "## **Assignment 5**\n",
    "\n",
    "1. Validate both of the above properties empirically \n",
    "2. Prove the second property analytically\n",
    "\n",
    "> **Note:** Be aware of consequences of the optional parameter `inplace` (its default value is set to `True`)."
   ]
  },
  {
   "cell_type": "markdown",
   "metadata": {},
   "source": [
    "### Solution: Part 1"
   ]
  },
  {
   "cell_type": "code",
   "execution_count": 52,
   "metadata": {},
   "outputs": [],
   "source": [
    "# Create tensor\n",
    "I, J, K = 2, 3, 4\n",
    "\n",
    "# Create tensor\n",
    "array_3d = np.arange(I * J * K).reshape(I, J ,K)\n",
    "X = Tensor(array_3d)"
   ]
  },
  {
   "cell_type": "code",
   "execution_count": 68,
   "metadata": {},
   "outputs": [],
   "source": [
    "# Create matrices\n",
    "J_A = 4\n",
    "J_B = 3\n",
    "A = np.arange(J_A * J).reshape(J_A, J)\n",
    "B = np.arange(J_B * K).reshape(J_B, K)\n",
    "# print(A)\n",
    "# print(B)"
   ]
  },
  {
   "cell_type": "code",
   "execution_count": 69,
   "metadata": {},
   "outputs": [
    {
     "data": {
      "text/plain": [
       "True"
      ]
     },
     "execution_count": 69,
     "metadata": {},
     "output_type": "execute_result"
    }
   ],
   "source": [
    "# Validate property 1\n",
    "XnAmB = X.mode_n_product(A, mode =1, inplace =False).mode_n_product(B, mode=2, inplace = False)\n",
    "XmAnB = X.mode_n_product(B, mode =2, inplace =False).mode_n_product(A, mode=1, inplace = False)\n",
    "np.allclose(XnAmB.data, XmAnB.data)"
   ]
  },
  {
   "cell_type": "code",
   "execution_count": 70,
   "metadata": {},
   "outputs": [
    {
     "data": {
      "text/plain": [
       "True"
      ]
     },
     "execution_count": 70,
     "metadata": {},
     "output_type": "execute_result"
    }
   ],
   "source": [
    "# Validate property 2\n",
    "XnAnB = X.mode_n_product(A, mode =1, inplace =False).mode_n_product(B, mode=1, inplace = False)\n",
    "XnBA = X.mode_n_product(B@A, mode =1, inplace =False)\n",
    "np.allclose(XnAnB.data, XnBA.data)"
   ]
  },
  {
   "cell_type": "markdown",
   "metadata": {
    "toc-hr-collapsed": true
   },
   "source": [
    "### Solution: Part 2\n",
    "\n",
    "Use [LaTeX syntax](https://stackoverflow.com/questions/13208286/how-to-write-latex-in-ipython-notebook) for analytical deriviations for the second property below.\n"
   ]
  },
  {
   "cell_type": "markdown",
   "metadata": {},
   "source": [
    "Let $\\mathbf{X} \\in \\mathbb{R}^{I_1 \\times I_2 \\times \\cdots \\times I_N}$ be an $N$-order tensor and $\\mathbf{A} \\in \\mathbb{R}^{J \\times I_n}$. The n-mode product is defined as\n",
    "\n",
    "$$ (\\mathbf{X} \\times_{n} \\mathbf{A})_{i_{1}\\cdots i_{n-1}ji_{n+1}\\cdots i_N} = \\sum \\limits_{i_n = 1}^{I_n} \\mathbf{X}_{i_{1}i_{2}\\cdots i_{n}\\cdots i_{N}}\\mathbf{A}_{ji_{n}} $$\n",
    "\n",
    "This is not a standard product like the product of matrices. Although, you could perform a matricization of the tensor along its n-mode (dimension n) and allow it to be a standard multiplication.  \n",
    "The n-mode matricization of $\\mathbf{X}$, $\\mathbf{X}_{(n)}$, is a $I_{n} \\times I_{1}\\cdots I_{n-1}I_{n+1}\\cdots I_{N}$ matrix representation of  $\\mathbf{X}$. So the multiplications are equivalent.\n",
    "\n",
    "$$\\mathbf{Y} = \\mathbf{X} \\times_{n} \\mathbf{A} \\iff \\mathbf{Y}_{(n)} = \\mathbf{A} \\mathbf{X}_{(n)} $$\n",
    "\n",
    "Where $\\mathbf{Y}_{(n)}$ is the n-mode matricization of the tensor\n",
    "$ \\mathbf{Y} \\in \\mathbb{R}^{I_1 \\times \\cdots \\times I_{n-1} \\times J \\times I_{n+1} \\times \\cdots \\times I_N} $"
   ]
  }
 ],
 "metadata": {
  "kernelspec": {
   "display_name": "dpm-coursework",
   "language": "python",
   "name": "dpm-coursework"
  },
  "language_info": {
   "codemirror_mode": {
    "name": "ipython",
    "version": 3
   },
   "file_extension": ".py",
   "mimetype": "text/x-python",
   "name": "python",
   "nbconvert_exporter": "python",
   "pygments_lexer": "ipython3",
   "version": "3.10.5"
  },
  "toc-autonumbering": false,
  "toc-showcode": false,
  "toc-showmarkdowntxt": false
 },
 "nbformat": 4,
 "nbformat_minor": 4
}
